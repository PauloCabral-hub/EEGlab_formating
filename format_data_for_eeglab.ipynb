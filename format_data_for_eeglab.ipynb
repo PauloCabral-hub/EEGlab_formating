{
 "cells": [
  {
   "cell_type": "markdown",
   "id": "963db279-616c-47cc-810b-49ea445032b5",
   "metadata": {},
   "source": [
    "# Coordinates\n",
    "\n",
    "EEGlab has a file with the coordinates of all usual electrodes. This file has the following name `Standard-10-5-Cap385.sfp`. You can ignore the extension, it is a simple `.csv` file. We will change the extension of this file for the following procedures. "
   ]
  },
  {
   "cell_type": "code",
   "execution_count": 1,
   "id": "c1a1213d-e40b-46bd-bcdb-e6be1e49f1cf",
   "metadata": {},
   "outputs": [
    {
     "name": "stderr",
     "output_type": "stream",
     "text": [
      "/tmp/ipykernel_6170/1484773307.py:2: DeprecationWarning: \n",
      "Pyarrow will become a required dependency of pandas in the next major release of pandas (pandas 3.0),\n",
      "(to allow more performant data types, such as the Arrow string type, and better interoperability with other libraries)\n",
      "but was not found to be installed on your system.\n",
      "If this would cause problems for you,\n",
      "please provide us feedback at https://github.com/pandas-dev/pandas/issues/54466\n",
      "        \n",
      "  import pandas as pd\n"
     ]
    }
   ],
   "source": [
    "import os\n",
    "import pandas as pd\n",
    "import re\n",
    "import numpy as np\n",
    "import string as str"
   ]
  },
  {
   "cell_type": "code",
   "execution_count": 2,
   "id": "ffd90cc4-0560-478e-b7c5-4676597c0760",
   "metadata": {},
   "outputs": [],
   "source": [
    "cwd = os.getcwd()\n",
    "flist = os.listdir()\n",
    "for f in flist:\n",
    "    if bool(re.search('.csv',f)) and not bool(re.search('sample',f)) :\n",
    "        break\n",
    "\n",
    "eeg_coord_df = pd.read_csv(os.path.join(cwd,f), delimiter='\\t', index_col=0, header=None)"
   ]
  },
  {
   "cell_type": "markdown",
   "id": "7ae3bfe1-11e7-4835-abb0-e1a273bb1248",
   "metadata": {},
   "source": [
    "Let us take a look at the names of the electrodes in the file"
   ]
  },
  {
   "cell_type": "code",
   "execution_count": 3,
   "id": "099b858c-9c11-427d-aa76-00323c6697dd",
   "metadata": {},
   "outputs": [
    {
     "data": {
      "text/plain": [
       "Index(['LPA', 'RPA', 'Nz', 'Fp1', 'Fpz', 'Fp2', 'AF9', 'AF7', 'AF5', 'AF3',\n",
       "       ...\n",
       "       'OIz', 'OI2', 'T3', 'T5', 'T4', 'T6', 'M1', 'M2', 'A1', 'A2'],\n",
       "      dtype='object', name=0, length=348)"
      ]
     },
     "execution_count": 3,
     "metadata": {},
     "output_type": "execute_result"
    }
   ],
   "source": [
    "eeg_coord_df.index"
   ]
  },
  {
   "cell_type": "markdown",
   "id": "2dff338a-7ecd-4986-b00c-2330f98b65f0",
   "metadata": {},
   "source": [
    "Now we will open the file with the electrodes we wish to find the coordinates. In this example, we will EEG recordings from the brazilian company called EMSA."
   ]
  },
  {
   "cell_type": "code",
   "execution_count": 4,
   "id": "b5f5eb83-0dca-48f0-943b-1b35405dbc3a",
   "metadata": {},
   "outputs": [],
   "source": [
    "for f in flist:\n",
    "    if bool(re.search('.csv',f)) and bool(re.search('sample',f)) :\n",
    "        break\n",
    "\n",
    "eeg_samp_df = pd.read_csv(os.path.join(cwd,f))"
   ]
  },
  {
   "cell_type": "code",
   "execution_count": 5,
   "id": "01aa3c1a-19dd-41da-bc40-be69a28a6090",
   "metadata": {},
   "outputs": [
    {
     "data": {
      "text/html": [
       "<div>\n",
       "<style scoped>\n",
       "    .dataframe tbody tr th:only-of-type {\n",
       "        vertical-align: middle;\n",
       "    }\n",
       "\n",
       "    .dataframe tbody tr th {\n",
       "        vertical-align: top;\n",
       "    }\n",
       "\n",
       "    .dataframe thead th {\n",
       "        text-align: right;\n",
       "    }\n",
       "</style>\n",
       "<table border=\"1\" class=\"dataframe\">\n",
       "  <thead>\n",
       "    <tr style=\"text-align: right;\">\n",
       "      <th></th>\n",
       "      <th>F7</th>\n",
       "      <th>T3</th>\n",
       "      <th>T5</th>\n",
       "      <th>Fp1</th>\n",
       "      <th>F3</th>\n",
       "      <th>C3</th>\n",
       "      <th>P3</th>\n",
       "      <th>O1</th>\n",
       "      <th>F8</th>\n",
       "      <th>T4</th>\n",
       "      <th>...</th>\n",
       "      <th>C4</th>\n",
       "      <th>P4</th>\n",
       "      <th>O2</th>\n",
       "      <th>Fz</th>\n",
       "      <th>Cz</th>\n",
       "      <th>Pz</th>\n",
       "      <th>Oz</th>\n",
       "      <th>A1</th>\n",
       "      <th>A2</th>\n",
       "      <th>FOTO1</th>\n",
       "    </tr>\n",
       "  </thead>\n",
       "  <tbody>\n",
       "    <tr>\n",
       "      <th>0</th>\n",
       "      <td>-11</td>\n",
       "      <td>-47</td>\n",
       "      <td>-17</td>\n",
       "      <td>98</td>\n",
       "      <td>-103</td>\n",
       "      <td>-128</td>\n",
       "      <td>-10</td>\n",
       "      <td>44</td>\n",
       "      <td>6</td>\n",
       "      <td>-58</td>\n",
       "      <td>...</td>\n",
       "      <td>-2</td>\n",
       "      <td>90</td>\n",
       "      <td>83</td>\n",
       "      <td>6</td>\n",
       "      <td>0</td>\n",
       "      <td>128</td>\n",
       "      <td>-10</td>\n",
       "      <td>-97</td>\n",
       "      <td>-28</td>\n",
       "      <td>0</td>\n",
       "    </tr>\n",
       "    <tr>\n",
       "      <th>1</th>\n",
       "      <td>0</td>\n",
       "      <td>-47</td>\n",
       "      <td>-12</td>\n",
       "      <td>98</td>\n",
       "      <td>-107</td>\n",
       "      <td>-134</td>\n",
       "      <td>-15</td>\n",
       "      <td>50</td>\n",
       "      <td>-2</td>\n",
       "      <td>-83</td>\n",
       "      <td>...</td>\n",
       "      <td>-10</td>\n",
       "      <td>86</td>\n",
       "      <td>63</td>\n",
       "      <td>-10</td>\n",
       "      <td>0</td>\n",
       "      <td>128</td>\n",
       "      <td>-2</td>\n",
       "      <td>-87</td>\n",
       "      <td>-19</td>\n",
       "      <td>0</td>\n",
       "    </tr>\n",
       "    <tr>\n",
       "      <th>2</th>\n",
       "      <td>11</td>\n",
       "      <td>-45</td>\n",
       "      <td>-4</td>\n",
       "      <td>96</td>\n",
       "      <td>-109</td>\n",
       "      <td>-138</td>\n",
       "      <td>-19</td>\n",
       "      <td>56</td>\n",
       "      <td>-14</td>\n",
       "      <td>-99</td>\n",
       "      <td>...</td>\n",
       "      <td>-14</td>\n",
       "      <td>86</td>\n",
       "      <td>42</td>\n",
       "      <td>-24</td>\n",
       "      <td>-2</td>\n",
       "      <td>126</td>\n",
       "      <td>6</td>\n",
       "      <td>-78</td>\n",
       "      <td>-11</td>\n",
       "      <td>0</td>\n",
       "    </tr>\n",
       "    <tr>\n",
       "      <th>3</th>\n",
       "      <td>19</td>\n",
       "      <td>-41</td>\n",
       "      <td>6</td>\n",
       "      <td>92</td>\n",
       "      <td>-111</td>\n",
       "      <td>-140</td>\n",
       "      <td>-21</td>\n",
       "      <td>62</td>\n",
       "      <td>-25</td>\n",
       "      <td>-105</td>\n",
       "      <td>...</td>\n",
       "      <td>-14</td>\n",
       "      <td>88</td>\n",
       "      <td>26</td>\n",
       "      <td>-39</td>\n",
       "      <td>-2</td>\n",
       "      <td>126</td>\n",
       "      <td>15</td>\n",
       "      <td>-70</td>\n",
       "      <td>-6</td>\n",
       "      <td>0</td>\n",
       "    </tr>\n",
       "    <tr>\n",
       "      <th>4</th>\n",
       "      <td>25</td>\n",
       "      <td>-37</td>\n",
       "      <td>17</td>\n",
       "      <td>86</td>\n",
       "      <td>-113</td>\n",
       "      <td>-138</td>\n",
       "      <td>-17</td>\n",
       "      <td>71</td>\n",
       "      <td>-39</td>\n",
       "      <td>-105</td>\n",
       "      <td>...</td>\n",
       "      <td>-12</td>\n",
       "      <td>92</td>\n",
       "      <td>16</td>\n",
       "      <td>-53</td>\n",
       "      <td>-2</td>\n",
       "      <td>126</td>\n",
       "      <td>21</td>\n",
       "      <td>-63</td>\n",
       "      <td>-2</td>\n",
       "      <td>0</td>\n",
       "    </tr>\n",
       "    <tr>\n",
       "      <th>...</th>\n",
       "      <td>...</td>\n",
       "      <td>...</td>\n",
       "      <td>...</td>\n",
       "      <td>...</td>\n",
       "      <td>...</td>\n",
       "      <td>...</td>\n",
       "      <td>...</td>\n",
       "      <td>...</td>\n",
       "      <td>...</td>\n",
       "      <td>...</td>\n",
       "      <td>...</td>\n",
       "      <td>...</td>\n",
       "      <td>...</td>\n",
       "      <td>...</td>\n",
       "      <td>...</td>\n",
       "      <td>...</td>\n",
       "      <td>...</td>\n",
       "      <td>...</td>\n",
       "      <td>...</td>\n",
       "      <td>...</td>\n",
       "      <td>...</td>\n",
       "    </tr>\n",
       "    <tr>\n",
       "      <th>745195</th>\n",
       "      <td>-190</td>\n",
       "      <td>-99</td>\n",
       "      <td>-90</td>\n",
       "      <td>-151</td>\n",
       "      <td>-115</td>\n",
       "      <td>-98</td>\n",
       "      <td>-38</td>\n",
       "      <td>56</td>\n",
       "      <td>-187</td>\n",
       "      <td>-31</td>\n",
       "      <td>...</td>\n",
       "      <td>24</td>\n",
       "      <td>-40</td>\n",
       "      <td>97</td>\n",
       "      <td>-35</td>\n",
       "      <td>0</td>\n",
       "      <td>-8</td>\n",
       "      <td>-115</td>\n",
       "      <td>-59</td>\n",
       "      <td>-118</td>\n",
       "      <td>0</td>\n",
       "    </tr>\n",
       "    <tr>\n",
       "      <th>745196</th>\n",
       "      <td>-173</td>\n",
       "      <td>-68</td>\n",
       "      <td>-65</td>\n",
       "      <td>-149</td>\n",
       "      <td>-105</td>\n",
       "      <td>-86</td>\n",
       "      <td>-29</td>\n",
       "      <td>87</td>\n",
       "      <td>-239</td>\n",
       "      <td>-54</td>\n",
       "      <td>...</td>\n",
       "      <td>26</td>\n",
       "      <td>-32</td>\n",
       "      <td>111</td>\n",
       "      <td>-41</td>\n",
       "      <td>0</td>\n",
       "      <td>4</td>\n",
       "      <td>-113</td>\n",
       "      <td>-55</td>\n",
       "      <td>-113</td>\n",
       "      <td>0</td>\n",
       "    </tr>\n",
       "    <tr>\n",
       "      <th>745197</th>\n",
       "      <td>-156</td>\n",
       "      <td>-45</td>\n",
       "      <td>-38</td>\n",
       "      <td>-147</td>\n",
       "      <td>-96</td>\n",
       "      <td>-73</td>\n",
       "      <td>-15</td>\n",
       "      <td>119</td>\n",
       "      <td>-280</td>\n",
       "      <td>-85</td>\n",
       "      <td>...</td>\n",
       "      <td>26</td>\n",
       "      <td>-24</td>\n",
       "      <td>125</td>\n",
       "      <td>-45</td>\n",
       "      <td>0</td>\n",
       "      <td>17</td>\n",
       "      <td>-111</td>\n",
       "      <td>-55</td>\n",
       "      <td>-111</td>\n",
       "      <td>0</td>\n",
       "    </tr>\n",
       "    <tr>\n",
       "      <th>745198</th>\n",
       "      <td>-137</td>\n",
       "      <td>-25</td>\n",
       "      <td>-12</td>\n",
       "      <td>-140</td>\n",
       "      <td>-86</td>\n",
       "      <td>-59</td>\n",
       "      <td>-2</td>\n",
       "      <td>150</td>\n",
       "      <td>-286</td>\n",
       "      <td>-113</td>\n",
       "      <td>...</td>\n",
       "      <td>24</td>\n",
       "      <td>-20</td>\n",
       "      <td>135</td>\n",
       "      <td>-47</td>\n",
       "      <td>0</td>\n",
       "      <td>27</td>\n",
       "      <td>-115</td>\n",
       "      <td>-59</td>\n",
       "      <td>-115</td>\n",
       "      <td>0</td>\n",
       "    </tr>\n",
       "    <tr>\n",
       "      <th>745199</th>\n",
       "      <td>-120</td>\n",
       "      <td>-14</td>\n",
       "      <td>12</td>\n",
       "      <td>-128</td>\n",
       "      <td>-75</td>\n",
       "      <td>-48</td>\n",
       "      <td>10</td>\n",
       "      <td>175</td>\n",
       "      <td>-261</td>\n",
       "      <td>-126</td>\n",
       "      <td>...</td>\n",
       "      <td>18</td>\n",
       "      <td>-20</td>\n",
       "      <td>141</td>\n",
       "      <td>-45</td>\n",
       "      <td>2</td>\n",
       "      <td>33</td>\n",
       "      <td>-121</td>\n",
       "      <td>-65</td>\n",
       "      <td>-122</td>\n",
       "      <td>0</td>\n",
       "    </tr>\n",
       "  </tbody>\n",
       "</table>\n",
       "<p>745200 rows × 23 columns</p>\n",
       "</div>"
      ],
      "text/plain": [
       "         F7  T3  T5  Fp1   F3   C3  P3   O1   F8   T4  ...  C4  P4   O2  Fz  \\\n",
       "0       -11 -47 -17   98 -103 -128 -10   44    6  -58  ...  -2  90   83   6   \n",
       "1         0 -47 -12   98 -107 -134 -15   50   -2  -83  ... -10  86   63 -10   \n",
       "2        11 -45  -4   96 -109 -138 -19   56  -14  -99  ... -14  86   42 -24   \n",
       "3        19 -41   6   92 -111 -140 -21   62  -25 -105  ... -14  88   26 -39   \n",
       "4        25 -37  17   86 -113 -138 -17   71  -39 -105  ... -12  92   16 -53   \n",
       "...     ...  ..  ..  ...  ...  ...  ..  ...  ...  ...  ...  ..  ..  ...  ..   \n",
       "745195 -190 -99 -90 -151 -115  -98 -38   56 -187  -31  ...  24 -40   97 -35   \n",
       "745196 -173 -68 -65 -149 -105  -86 -29   87 -239  -54  ...  26 -32  111 -41   \n",
       "745197 -156 -45 -38 -147  -96  -73 -15  119 -280  -85  ...  26 -24  125 -45   \n",
       "745198 -137 -25 -12 -140  -86  -59  -2  150 -286 -113  ...  24 -20  135 -47   \n",
       "745199 -120 -14  12 -128  -75  -48  10  175 -261 -126  ...  18 -20  141 -45   \n",
       "\n",
       "        Cz   Pz   Oz  A1   A2  FOTO1  \n",
       "0        0  128  -10 -97  -28      0  \n",
       "1        0  128   -2 -87  -19      0  \n",
       "2       -2  126    6 -78  -11      0  \n",
       "3       -2  126   15 -70   -6      0  \n",
       "4       -2  126   21 -63   -2      0  \n",
       "...     ..  ...  ...  ..  ...    ...  \n",
       "745195   0   -8 -115 -59 -118      0  \n",
       "745196   0    4 -113 -55 -113      0  \n",
       "745197   0   17 -111 -55 -111      0  \n",
       "745198   0   27 -115 -59 -115      0  \n",
       "745199   2   33 -121 -65 -122      0  \n",
       "\n",
       "[745200 rows x 23 columns]"
      ]
     },
     "execution_count": 5,
     "metadata": {},
     "output_type": "execute_result"
    }
   ],
   "source": [
    "eeg_samp_df"
   ]
  },
  {
   "cell_type": "markdown",
   "id": "661a328e-9f1b-4da5-bed8-548f4db39ccf",
   "metadata": {},
   "source": [
    "Now, we are going to map the electrodes in our EEG recordings to EEGlab file."
   ]
  },
  {
   "cell_type": "code",
   "execution_count": 6,
   "id": "cf8aec80-3206-4d87-adf6-358c3f0e39a8",
   "metadata": {},
   "outputs": [],
   "source": [
    "chan_map = np.zeros(eeg_samp_df.columns.shape[0], dtype=int)\n",
    "l1 = 0\n",
    "for dchan in eeg_samp_df.columns:\n",
    "    l2 = 0\n",
    "    for ichan in eeg_coord_df.index:\n",
    "        if dchan.lower() == ichan.lower():\n",
    "            chan_map[l1] = l2\n",
    "        l2+=1\n",
    "    l1+=1"
   ]
  },
  {
   "cell_type": "markdown",
   "id": "fbf93ac9-7ec6-4895-9ccb-b628b18de42d",
   "metadata": {},
   "source": [
    "Checking if we mapped correctly."
   ]
  },
  {
   "cell_type": "code",
   "execution_count": 7,
   "id": "ea557791-3dd0-4f3c-920b-c2770afbdfb6",
   "metadata": {},
   "outputs": [
    {
     "name": "stdout",
     "output_type": "stream",
     "text": [
      "F7 F7\n",
      "T3 T3\n",
      "T5 T5\n",
      "Fp1 Fp1\n",
      "F3 F3\n",
      "C3 C3\n",
      "P3 P3\n",
      "O1 O1\n",
      "F8 F8\n",
      "T4 T4\n",
      "T6 T6\n",
      "Fp2 Fp2\n",
      "F4 F4\n",
      "C4 C4\n",
      "P4 P4\n",
      "O2 O2\n",
      "Fz Fz\n",
      "Cz Cz\n",
      "Pz Pz\n",
      "Oz Oz\n",
      "A1 A1\n",
      "A2 A2\n",
      "FOTO1 LPA\n"
     ]
    }
   ],
   "source": [
    "l1 = 0\n",
    "for dchan in eeg_samp_df.columns:\n",
    "    print(dchan, eeg_coord_df.index[chan_map[l1]])\n",
    "    l1 +=1"
   ]
  },
  {
   "cell_type": "markdown",
   "id": "9a3917f2-e66c-4971-bf89-aba682a2c29d",
   "metadata": {},
   "source": [
    "Since we are not interested in all electrodes. For example, we do not need A1, A2, FOTO1. Therefore, we drop them."
   ]
  },
  {
   "cell_type": "code",
   "execution_count": 8,
   "id": "bedb0dd1-26c8-448b-bf66-698cf4e55085",
   "metadata": {},
   "outputs": [],
   "source": [
    "valid_ch = eeg_samp_df.columns[0:eeg_samp_df.columns.shape[0]-3]"
   ]
  },
  {
   "cell_type": "code",
   "execution_count": 9,
   "id": "8162e9bb-f9cd-4168-b7de-f142dd21c79a",
   "metadata": {},
   "outputs": [],
   "source": [
    "vchan_coord = np.zeros((valid_ch.shape[0],3))\n",
    "\n",
    "l1 = 0\n",
    "for ch in valid_ch:\n",
    "    vchan_coord[l1][0] =  eeg_coord_df.iloc[chan_map[l1],0]\n",
    "    vchan_coord[l1][1] =  eeg_coord_df.iloc[chan_map[l1],1]\n",
    "    vchan_coord[l1][2] =  eeg_coord_df.iloc[chan_map[l1],2]\n",
    "    l1 +=1"
   ]
  },
  {
   "cell_type": "markdown",
   "id": "d05f2e25-9212-4b3c-a561-e4dbeef3c1f9",
   "metadata": {},
   "source": [
    "Checking."
   ]
  },
  {
   "cell_type": "code",
   "execution_count": 10,
   "id": "c1c91c75-9c92-4bd7-a19e-8c4742b21166",
   "metadata": {},
   "outputs": [
    {
     "name": "stdout",
     "output_type": "stream",
     "text": [
      "T5 [-0.0804 -0.0586 -0.0088]\n",
      "T5 -0.0804 -0.0586 -0.0088\n"
     ]
    }
   ],
   "source": [
    "k = 2\n",
    "print(valid_ch[k], vchan_coord[k][0:3])\n",
    "print(eeg_coord_df.index[chan_map[k]], eeg_coord_df.iloc[chan_map[k],0], eeg_coord_df.iloc[chan_map[k],1],\n",
    "     eeg_coord_df.iloc[chan_map[k],2])"
   ]
  },
  {
   "cell_type": "markdown",
   "id": "39324ca8-ba24-4227-83ce-4f67b75ff75c",
   "metadata": {},
   "source": [
    "Creating the dataframe that contains all information we need."
   ]
  },
  {
   "cell_type": "code",
   "execution_count": 11,
   "id": "8717dc2e-cf62-46d6-a0d7-4e083abc6fbe",
   "metadata": {},
   "outputs": [
    {
     "data": {
      "text/html": [
       "<div>\n",
       "<style scoped>\n",
       "    .dataframe tbody tr th:only-of-type {\n",
       "        vertical-align: middle;\n",
       "    }\n",
       "\n",
       "    .dataframe tbody tr th {\n",
       "        vertical-align: top;\n",
       "    }\n",
       "\n",
       "    .dataframe thead th {\n",
       "        text-align: right;\n",
       "    }\n",
       "</style>\n",
       "<table border=\"1\" class=\"dataframe\">\n",
       "  <thead>\n",
       "    <tr style=\"text-align: right;\">\n",
       "      <th></th>\n",
       "      <th>x</th>\n",
       "      <th>y</th>\n",
       "      <th>z</th>\n",
       "    </tr>\n",
       "  </thead>\n",
       "  <tbody>\n",
       "    <tr>\n",
       "      <th>F7</th>\n",
       "      <td>-0.0804</td>\n",
       "      <td>0.0586</td>\n",
       "      <td>-0.0088</td>\n",
       "    </tr>\n",
       "    <tr>\n",
       "      <th>T3</th>\n",
       "      <td>-0.0994</td>\n",
       "      <td>0.0000</td>\n",
       "      <td>-0.0104</td>\n",
       "    </tr>\n",
       "    <tr>\n",
       "      <th>T5</th>\n",
       "      <td>-0.0804</td>\n",
       "      <td>-0.0586</td>\n",
       "      <td>-0.0088</td>\n",
       "    </tr>\n",
       "    <tr>\n",
       "      <th>Fp1</th>\n",
       "      <td>-0.0307</td>\n",
       "      <td>0.0949</td>\n",
       "      <td>-0.0047</td>\n",
       "    </tr>\n",
       "    <tr>\n",
       "      <th>F3</th>\n",
       "      <td>-0.0567</td>\n",
       "      <td>0.0677</td>\n",
       "      <td>0.0469</td>\n",
       "    </tr>\n",
       "    <tr>\n",
       "      <th>C3</th>\n",
       "      <td>-0.0742</td>\n",
       "      <td>0.0000</td>\n",
       "      <td>0.0668</td>\n",
       "    </tr>\n",
       "    <tr>\n",
       "      <th>P3</th>\n",
       "      <td>-0.0567</td>\n",
       "      <td>-0.0677</td>\n",
       "      <td>0.0469</td>\n",
       "    </tr>\n",
       "    <tr>\n",
       "      <th>O1</th>\n",
       "      <td>-0.0307</td>\n",
       "      <td>-0.0949</td>\n",
       "      <td>-0.0047</td>\n",
       "    </tr>\n",
       "    <tr>\n",
       "      <th>F8</th>\n",
       "      <td>0.0804</td>\n",
       "      <td>0.0587</td>\n",
       "      <td>-0.0088</td>\n",
       "    </tr>\n",
       "    <tr>\n",
       "      <th>T4</th>\n",
       "      <td>0.0994</td>\n",
       "      <td>0.0000</td>\n",
       "      <td>-0.0104</td>\n",
       "    </tr>\n",
       "    <tr>\n",
       "      <th>T6</th>\n",
       "      <td>0.0804</td>\n",
       "      <td>-0.0587</td>\n",
       "      <td>-0.0088</td>\n",
       "    </tr>\n",
       "    <tr>\n",
       "      <th>Fp2</th>\n",
       "      <td>0.0307</td>\n",
       "      <td>0.0949</td>\n",
       "      <td>-0.0047</td>\n",
       "    </tr>\n",
       "    <tr>\n",
       "      <th>F4</th>\n",
       "      <td>0.0566</td>\n",
       "      <td>0.0677</td>\n",
       "      <td>0.0469</td>\n",
       "    </tr>\n",
       "    <tr>\n",
       "      <th>C4</th>\n",
       "      <td>0.0743</td>\n",
       "      <td>0.0000</td>\n",
       "      <td>0.0669</td>\n",
       "    </tr>\n",
       "    <tr>\n",
       "      <th>P4</th>\n",
       "      <td>0.0566</td>\n",
       "      <td>-0.0677</td>\n",
       "      <td>0.0469</td>\n",
       "    </tr>\n",
       "    <tr>\n",
       "      <th>O2</th>\n",
       "      <td>0.0307</td>\n",
       "      <td>-0.0949</td>\n",
       "      <td>-0.0047</td>\n",
       "    </tr>\n",
       "    <tr>\n",
       "      <th>Fz</th>\n",
       "      <td>0.0000</td>\n",
       "      <td>0.0714</td>\n",
       "      <td>0.0699</td>\n",
       "    </tr>\n",
       "    <tr>\n",
       "      <th>Cz</th>\n",
       "      <td>0.0000</td>\n",
       "      <td>0.0000</td>\n",
       "      <td>0.1000</td>\n",
       "    </tr>\n",
       "    <tr>\n",
       "      <th>Pz</th>\n",
       "      <td>0.0000</td>\n",
       "      <td>-0.0714</td>\n",
       "      <td>0.0699</td>\n",
       "    </tr>\n",
       "    <tr>\n",
       "      <th>Oz</th>\n",
       "      <td>0.0000</td>\n",
       "      <td>-0.0999</td>\n",
       "      <td>-0.0021</td>\n",
       "    </tr>\n",
       "  </tbody>\n",
       "</table>\n",
       "</div>"
      ],
      "text/plain": [
       "          x       y       z\n",
       "F7  -0.0804  0.0586 -0.0088\n",
       "T3  -0.0994  0.0000 -0.0104\n",
       "T5  -0.0804 -0.0586 -0.0088\n",
       "Fp1 -0.0307  0.0949 -0.0047\n",
       "F3  -0.0567  0.0677  0.0469\n",
       "C3  -0.0742  0.0000  0.0668\n",
       "P3  -0.0567 -0.0677  0.0469\n",
       "O1  -0.0307 -0.0949 -0.0047\n",
       "F8   0.0804  0.0587 -0.0088\n",
       "T4   0.0994  0.0000 -0.0104\n",
       "T6   0.0804 -0.0587 -0.0088\n",
       "Fp2  0.0307  0.0949 -0.0047\n",
       "F4   0.0566  0.0677  0.0469\n",
       "C4   0.0743  0.0000  0.0669\n",
       "P4   0.0566 -0.0677  0.0469\n",
       "O2   0.0307 -0.0949 -0.0047\n",
       "Fz   0.0000  0.0714  0.0699\n",
       "Cz   0.0000  0.0000  0.1000\n",
       "Pz   0.0000 -0.0714  0.0699\n",
       "Oz   0.0000 -0.0999 -0.0021"
      ]
     },
     "execution_count": 11,
     "metadata": {},
     "output_type": "execute_result"
    }
   ],
   "source": [
    "coordinates_df = pd.DataFrame(vchan_coord[:,:], index=valid_ch, columns=['x', 'y', 'z'])  \n",
    "coordinates_df"
   ]
  },
  {
   "cell_type": "code",
   "execution_count": 12,
   "id": "891b4b50-0b85-468c-a916-7fce23f4ea6b",
   "metadata": {},
   "outputs": [],
   "source": [
    "coordinates_df.to_csv('coordinates.csv')"
   ]
  },
  {
   "cell_type": "markdown",
   "id": "946e77bd-cd12-403b-bcb7-2ca6ab6421f0",
   "metadata": {},
   "source": [
    "# Triggers\n",
    "\n",
    "In this particular file, the triggers were configured as train of pulses. A train of 2 pulses, for example, indicates one trigger. On the other hand, 3 pulses indicates a different trigger."
   ]
  },
  {
   "cell_type": "code",
   "execution_count": 13,
   "id": "31d580ea-f59f-405a-809b-0e61e39f9d05",
   "metadata": {},
   "outputs": [],
   "source": [
    "triggers = eeg_samp_df['FOTO1'].to_numpy()"
   ]
  },
  {
   "cell_type": "markdown",
   "id": "4abb5125-eb7e-49a2-9882-0ecaa7e9e419",
   "metadata": {},
   "source": [
    "Just to take a look at the signal, we are going to plot it."
   ]
  },
  {
   "cell_type": "code",
   "execution_count": 14,
   "id": "7137fc05-f1be-4b22-8775-ff3c6bc1a816",
   "metadata": {},
   "outputs": [
    {
     "name": "stdout",
     "output_type": "stream",
     "text": [
      "Requirement already satisfied: matplotlib in ./virtual/lib/python3.10/site-packages (3.8.3)\n",
      "Requirement already satisfied: contourpy>=1.0.1 in ./virtual/lib/python3.10/site-packages (from matplotlib) (1.2.0)\n",
      "Requirement already satisfied: kiwisolver>=1.3.1 in ./virtual/lib/python3.10/site-packages (from matplotlib) (1.4.5)\n",
      "Requirement already satisfied: python-dateutil>=2.7 in ./virtual/lib/python3.10/site-packages (from matplotlib) (2.8.2)\n",
      "Requirement already satisfied: cycler>=0.10 in ./virtual/lib/python3.10/site-packages (from matplotlib) (0.12.1)\n",
      "Requirement already satisfied: packaging>=20.0 in ./virtual/lib/python3.10/site-packages (from matplotlib) (23.2)\n",
      "Requirement already satisfied: pyparsing>=2.3.1 in ./virtual/lib/python3.10/site-packages (from matplotlib) (3.1.1)\n",
      "Requirement already satisfied: pillow>=8 in ./virtual/lib/python3.10/site-packages (from matplotlib) (10.2.0)\n",
      "Requirement already satisfied: numpy<2,>=1.21 in ./virtual/lib/python3.10/site-packages (from matplotlib) (1.26.4)\n",
      "Requirement already satisfied: fonttools>=4.22.0 in ./virtual/lib/python3.10/site-packages (from matplotlib) (4.49.0)\n",
      "Requirement already satisfied: six>=1.5 in ./virtual/lib/python3.10/site-packages (from python-dateutil>=2.7->matplotlib) (1.16.0)\n"
     ]
    }
   ],
   "source": [
    "!pip install matplotlib"
   ]
  },
  {
   "cell_type": "code",
   "execution_count": 15,
   "id": "7fae75c0-4f7e-4bea-916e-546c8ebf1df9",
   "metadata": {},
   "outputs": [],
   "source": [
    "from matplotlib import pyplot as plt"
   ]
  },
  {
   "cell_type": "markdown",
   "id": "0cc462f9-6b27-466e-b2d8-2a69f02e95b8",
   "metadata": {},
   "source": [
    "We are going to use the sillence between two train of pulses to identify the appearance of a trigger."
   ]
  },
  {
   "cell_type": "code",
   "execution_count": 18,
   "id": "7e8e688b-fc51-43e6-8167-6c02f410222c",
   "metadata": {},
   "outputs": [],
   "source": [
    "sil_int = 50\n",
    "pulse_vec = np.zeros(triggers.shape[0])\n",
    "for i in range(sil_int+1, triggers.shape[0]):\n",
    "    if sum(triggers[i-sil_int-1:i-1]) == 0:\n",
    "        if (triggers[i] < 0) and (triggers[i-1] == 0): # new pulse detected\n",
    "            pulse_vec[i]= 1 "
   ]
  },
  {
   "cell_type": "code",
   "execution_count": 19,
   "id": "a686b633-19ad-483f-9e4a-c0f3d905ea48",
   "metadata": {},
   "outputs": [
    {
     "data": {
      "text/plain": [
       "[<matplotlib.lines.Line2D at 0x7fab602da800>]"
      ]
     },
     "execution_count": 19,
     "metadata": {},
     "output_type": "execute_result"
    },
    {
     "data": {
      "image/png": "[encoded data removed]",
      "text/plain": [
       "<Figure size 640x480 with 2 Axes>"
      ]
     },
     "metadata": {},
     "output_type": "display_data"
    }
   ],
   "source": [
    "k = 4\n",
    "b = 5000 + k * 400\n",
    "e = b + 400\n",
    "fig, axs = plt.subplots(2)\n",
    "axs[0].plot(triggers[b:e])\n",
    "axs[1].plot(pulse_vec[b:e])"
   ]
  },
  {
   "cell_type": "markdown",
   "id": "f4b72478-cb0f-458d-a37f-67709194b626",
   "metadata": {},
   "source": [
    "Now, we are going to differentiate the triggers based on the fact that the trigger with more pulses present 5 pulses in an interval inferior 100 samples."
   ]
  },
  {
   "cell_type": "code",
   "execution_count": 20,
   "id": "d0965b50-e5a7-4a51-abfe-46b9f5087d18",
   "metadata": {},
   "outputs": [],
   "source": [
    "for l1 in range(pulse_vec.shape[0]):\n",
    "    if pulse_vec[l1] == 1: # new pulse\n",
    "        ptype = 0\n",
    "        for l2 in range(l1,l1+100):\n",
    "            if triggers[l2] < triggers[l2-1]:\n",
    "                ptype +=1\n",
    "        pulse_vec[l1] = ptype\n"
   ]
  },
  {
   "cell_type": "markdown",
   "id": "175c7ff1-65be-43be-a542-5651fee0d587",
   "metadata": {},
   "source": [
    "Now, we can check if we were able to differentiate them correctly."
   ]
  },
  {
   "cell_type": "code",
   "execution_count": 219,
   "id": "7460085d-7108-4951-b9a9-9d717106b956",
   "metadata": {},
   "outputs": [
    {
     "data": {
      "text/plain": [
       "[<matplotlib.lines.Line2D at 0x7f0e2a0d6c80>]"
      ]
     },
     "execution_count": 219,
     "metadata": {},
     "output_type": "execute_result"
    },
    {
     "data": {
      "image/png": "[encoded data removed]",
      "text/plain": [
       "<Figure size 640x480 with 2 Axes>"
      ]
     },
     "metadata": {},
     "output_type": "display_data"
    }
   ],
   "source": [
    "k = 4\n",
    "b = 5000 + k * 400\n",
    "e = b + 400\n",
    "fig, axs = plt.subplots(2)\n",
    "axs[0].plot(triggers[b:e])\n",
    "axs[1].plot(pulse_vec[b:e])"
   ]
  },
  {
   "cell_type": "code",
   "execution_count": 221,
   "id": "3feea026-97a3-4260-8286-b3710ad4a47b",
   "metadata": {},
   "outputs": [],
   "source": [
    "eeg_samp_df['FOTO1'] = pulse_vec"
   ]
  },
  {
   "cell_type": "code",
   "execution_count": 223,
   "id": "877917f0-8a13-4f19-9b5b-f93214ae2562",
   "metadata": {},
   "outputs": [],
   "source": [
    "eeg_samp_df.to_csv('output_file.csv')"
   ]
  }
 ],
 "metadata": {
  "kernelspec": {
   "display_name": "Python 3 (ipykernel)",
   "language": "python",
   "name": "python3"
  },
  "language_info": {
   "codemirror_mode": {
    "name": "ipython",
    "version": 3
   },
   "file_extension": ".py",
   "mimetype": "text/x-python",
   "name": "python",
   "nbconvert_exporter": "python",
   "pygments_lexer": "ipython3",
   "version": "3.10.12"
  }
 },
 "nbformat": 4,
 "nbformat_minor": 5
}
